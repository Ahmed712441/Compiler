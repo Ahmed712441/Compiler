{
 "cells": [
  {
   "cell_type": "code",
   "execution_count": 1,
   "id": "2369b44a",
   "metadata": {},
   "outputs": [],
   "source": [
    "import networkx as nx\n",
    "import numpy as np\n",
    "import matplotlib.pyplot as plt\n",
    "from graphviz import Digraph"
   ]
  },
  {
   "cell_type": "code",
   "execution_count": 2,
   "id": "24a43150",
   "metadata": {},
   "outputs": [],
   "source": [
    "dot = Digraph()\n",
    "dot.node('1')\n",
    "dot.node('2')\n",
    "dot.node('3')\n",
    "dot.node('4')\n",
    "dot.node('5')"
   ]
  },
  {
   "cell_type": "code",
   "execution_count": 3,
   "id": "e9a9d908",
   "metadata": {},
   "outputs": [],
   "source": [
    "dot.edge('1','2','id|num')\n",
    "dot.edge('1','5','op')\n",
    "dot.edge('2','3','op')\n",
    "dot.edge('2','5','id|num')\n",
    "dot.edge('3','4','id|num')\n",
    "dot.edge('3','5','op')\n",
    "dot.edge('4','3','op')\n",
    "dot.edge('4','5','id|num')\n",
    "dot.edge('5','5','id|num|op')"
   ]
  },
  {
   "cell_type": "code",
   "execution_count": 4,
   "id": "875585bc",
   "metadata": {},
   "outputs": [],
   "source": [
    "def start(char):\n",
    "    if (char>='a' and char<='z') or(char>='A' and char<='Z') :\n",
    "        dfa=2\n",
    "        print(f\"{char}:id:2\")\n",
    "    elif char.isdigit():\n",
    "        dfa=2\n",
    "        print(f\"{char}:num:2\")\n",
    "    else:\n",
    "        dfa=5\n",
    "        print(f\"{char}:op:5\")\n",
    "    return dfa"
   ]
  },
  {
   "cell_type": "code",
   "execution_count": 5,
   "id": "25fbe5d1",
   "metadata": {},
   "outputs": [],
   "source": [
    "def state2(char):\n",
    "    if char=='+' or char=='-' or char=='*' or char=='/':\n",
    "        dfa=3\n",
    "        print(f\"{char}:op:3\")\n",
    "    else:\n",
    "        dfa=5\n",
    "        if (char>='a' and char<='z') or(char>='A' and char<='Z'):\n",
    "            print(f\"{char}:id:5\")\n",
    "        else:\n",
    "             print(f\"{char}:num:5\")\n",
    "    return dfa"
   ]
  },
  {
   "cell_type": "code",
   "execution_count": 6,
   "id": "d6a61bf0",
   "metadata": {},
   "outputs": [],
   "source": [
    "def state3(char):\n",
    "    if (char>='a' and char<='z') or(char>='A' and char<='Z'):\n",
    "        dfa=4\n",
    "        print(f\"{char}:id:4\")\n",
    "    elif char.isdigit():\n",
    "        dfa=4\n",
    "        print(f\"{char}:num:4\")\n",
    "    else:\n",
    "        dfa=5\n",
    "        print(f\"{char}:op:5\")\n",
    "    return dfa"
   ]
  },
  {
   "cell_type": "code",
   "execution_count": 7,
   "id": "3a261fc3",
   "metadata": {},
   "outputs": [],
   "source": [
    "def state4(char):\n",
    "    if char=='+' or char=='-' or char=='*' or char=='/':\n",
    "        dfa=3\n",
    "        print(f\"{char}:op:3\")\n",
    "    else:\n",
    "        dfa=5\n",
    "        if (char>='a' and char<='z') or(char>='A' and char<='Z'):\n",
    "            print(f\"{char}:id:5\")\n",
    "        else:\n",
    "             print(f\"{char}:num:5\")\n",
    "            \n",
    "    return dfa\n",
    "        "
   ]
  },
  {
   "cell_type": "code",
   "execution_count": 8,
   "id": "5b5dbf28",
   "metadata": {},
   "outputs": [],
   "source": [
    "def take_string(string):\n",
    "    dfa=1\n",
    "    for char in string:\n",
    "        if dfa==1:\n",
    "            dfa=start(char)\n",
    "        elif dfa==2:\n",
    "            dfa=state2(char)\n",
    "        elif dfa==3:\n",
    "            dfa=state3(char)\n",
    "        elif dfa==4:\n",
    "            dfa=state4(char)\n",
    "        else:\n",
    "            print(\"error occur\")\n",
    "            break\n",
    "            \n",
    "            "
   ]
  },
  {
   "cell_type": "code",
   "execution_count": 12,
   "id": "daa8cd31",
   "metadata": {
    "scrolled": false
   },
   "outputs": [
    {
     "name": "stdout",
     "output_type": "stream",
     "text": [
      "enter expression here! x+\n",
      "------------tokens------------\n",
      "x:id:2\n",
      "+:op:3\n"
     ]
    }
   ],
   "source": [
    "str_in=input(\"enter expression here! \")\n",
    "print(\"------------tokens------------\")\n",
    "take_string(str_in)"
   ]
  },
  {
   "attachments": {
    "Screen%20Shot%202022-04-20%20at%207.43.18%20PM.png": {
     "image/png": "[encoded data removed]"
    }
   },
   "cell_type": "markdown",
   "id": "f4a963ec",
   "metadata": {},
   "source": [
    "![Screen%20Shot%202022-04-20%20at%207.43.18%20PM.png](attachment:Screen%20Shot%202022-04-20%20at%207.43.18%20PM.png)"
   ]
  },
  {
   "cell_type": "markdown",
   "id": "12441381",
   "metadata": {},
   "source": [
    "### 1 is start state\n",
    "### 4 is final state\n",
    "### 5 is error state"
   ]
  },
  {
   "cell_type": "code",
   "execution_count": 10,
   "id": "168bc57c",
   "metadata": {
    "scrolled": false
   },
   "outputs": [
    {
     "data": {
      "image/svg+xml": [
       "<?xml version=\"1.0\" encoding=\"UTF-8\" standalone=\"no\"?>\n",
       "<!DOCTYPE svg PUBLIC \"-//W3C//DTD SVG 1.1//EN\"\n",
       " \"http://www.w3.org/Graphics/SVG/1.1/DTD/svg11.dtd\">\n",
       "<!-- Generated by graphviz version 3.0.0 (20220226.1711)\n",
       " -->\n",
       "<!-- Pages: 1 -->\n",
       "<svg width=\"222pt\" height=\"392pt\"\n",
       " viewBox=\"0.00 0.00 221.83 392.00\" xmlns=\"http://www.w3.org/2000/svg\" xmlns:xlink=\"http://www.w3.org/1999/xlink\">\n",
       "<g id=\"graph0\" class=\"graph\" transform=\"scale(1 1) rotate(0) translate(4 388)\">\n",
       "<polygon fill=\"white\" stroke=\"transparent\" points=\"-4,4 -4,-388 217.83,-388 217.83,4 -4,4\"/>\n",
       "<!-- 1 -->\n",
       "<g id=\"node1\" class=\"node\">\n",
       "<title>1</title>\n",
       "<ellipse fill=\"none\" stroke=\"black\" cx=\"161.83\" cy=\"-366\" rx=\"27\" ry=\"18\"/>\n",
       "<text text-anchor=\"middle\" x=\"161.83\" y=\"-362.3\" font-family=\"Times,serif\" font-size=\"14.00\">1</text>\n",
       "</g>\n",
       "<!-- 2 -->\n",
       "<g id=\"node2\" class=\"node\">\n",
       "<title>2</title>\n",
       "<ellipse fill=\"none\" stroke=\"black\" cx=\"133.83\" cy=\"-279\" rx=\"27\" ry=\"18\"/>\n",
       "<text text-anchor=\"middle\" x=\"133.83\" y=\"-275.3\" font-family=\"Times,serif\" font-size=\"14.00\">2</text>\n",
       "</g>\n",
       "<!-- 1&#45;&gt;2 -->\n",
       "<g id=\"edge1\" class=\"edge\">\n",
       "<title>1&#45;&gt;2</title>\n",
       "<path fill=\"none\" stroke=\"black\" d=\"M147.98,-350.49C143.23,-344.59 138.45,-337.42 135.83,-330 133.31,-322.87 132.27,-314.82 132,-307.28\"/>\n",
       "<polygon fill=\"black\" stroke=\"black\" points=\"135.5,-307.15 132.05,-297.14 128.5,-307.12 135.5,-307.15\"/>\n",
       "<text text-anchor=\"middle\" x=\"155.33\" y=\"-318.8\" font-family=\"Times,serif\" font-size=\"14.00\">id|num</text>\n",
       "</g>\n",
       "<!-- 5 -->\n",
       "<g id=\"node5\" class=\"node\">\n",
       "<title>5</title>\n",
       "<ellipse fill=\"none\" stroke=\"black\" cx=\"113.83\" cy=\"-18\" rx=\"27\" ry=\"18\"/>\n",
       "<text text-anchor=\"middle\" x=\"113.83\" y=\"-14.3\" font-family=\"Times,serif\" font-size=\"14.00\">5</text>\n",
       "</g>\n",
       "<!-- 1&#45;&gt;5 -->\n",
       "<g id=\"edge2\" class=\"edge\">\n",
       "<title>1&#45;&gt;5</title>\n",
       "<path fill=\"none\" stroke=\"black\" d=\"M170.22,-348.87C178.15,-332.12 188.83,-304.93 188.83,-280 188.83,-280 188.83,-280 188.83,-104 188.83,-74.77 163.58,-50.84 142.38,-35.91\"/>\n",
       "<polygon fill=\"black\" stroke=\"black\" points=\"144.18,-32.9 133.92,-30.25 140.29,-38.72 144.18,-32.9\"/>\n",
       "<text text-anchor=\"middle\" x=\"195.83\" y=\"-188.3\" font-family=\"Times,serif\" font-size=\"14.00\">op</text>\n",
       "</g>\n",
       "<!-- 3 -->\n",
       "<g id=\"node3\" class=\"node\">\n",
       "<title>3</title>\n",
       "<ellipse fill=\"none\" stroke=\"black\" cx=\"71.83\" cy=\"-192\" rx=\"27\" ry=\"18\"/>\n",
       "<text text-anchor=\"middle\" x=\"71.83\" y=\"-188.3\" font-family=\"Times,serif\" font-size=\"14.00\">3</text>\n",
       "</g>\n",
       "<!-- 2&#45;&gt;3 -->\n",
       "<g id=\"edge3\" class=\"edge\">\n",
       "<title>2&#45;&gt;3</title>\n",
       "<path fill=\"none\" stroke=\"black\" d=\"M121.84,-262.78C117.1,-256.68 111.64,-249.55 106.83,-243 100.74,-234.72 94.25,-225.55 88.52,-217.34\"/>\n",
       "<polygon fill=\"black\" stroke=\"black\" points=\"91.25,-215.12 82.67,-208.9 85.49,-219.11 91.25,-215.12\"/>\n",
       "<text text-anchor=\"middle\" x=\"113.83\" y=\"-231.8\" font-family=\"Times,serif\" font-size=\"14.00\">op</text>\n",
       "</g>\n",
       "<!-- 2&#45;&gt;5 -->\n",
       "<g id=\"edge4\" class=\"edge\">\n",
       "<title>2&#45;&gt;5</title>\n",
       "<path fill=\"none\" stroke=\"black\" d=\"M132.58,-260.85C129.85,-223.34 123.06,-131.16 116.83,-54 116.62,-51.45 116.4,-48.79 116.18,-46.13\"/>\n",
       "<polygon fill=\"black\" stroke=\"black\" points=\"119.66,-45.75 115.32,-36.09 112.68,-46.35 119.66,-45.75\"/>\n",
       "<text text-anchor=\"middle\" x=\"143.33\" y=\"-144.8\" font-family=\"Times,serif\" font-size=\"14.00\">id|num</text>\n",
       "</g>\n",
       "<!-- 4 -->\n",
       "<g id=\"node4\" class=\"node\">\n",
       "<title>4</title>\n",
       "<ellipse fill=\"none\" stroke=\"black\" cx=\"29.83\" cy=\"-105\" rx=\"27\" ry=\"18\"/>\n",
       "<text text-anchor=\"middle\" x=\"29.83\" y=\"-101.3\" font-family=\"Times,serif\" font-size=\"14.00\">4</text>\n",
       "</g>\n",
       "<!-- 3&#45;&gt;4 -->\n",
       "<g id=\"edge5\" class=\"edge\">\n",
       "<title>3&#45;&gt;4</title>\n",
       "<path fill=\"none\" stroke=\"black\" d=\"M46.51,-185.29C30.98,-180.34 12.31,-171.45 2.83,-156 -2.79,-146.86 1.24,-136.47 7.72,-127.53\"/>\n",
       "<polygon fill=\"black\" stroke=\"black\" points=\"10.45,-129.73 14.17,-119.81 5.07,-125.24 10.45,-129.73\"/>\n",
       "<text text-anchor=\"middle\" x=\"22.33\" y=\"-144.8\" font-family=\"Times,serif\" font-size=\"14.00\">id|num</text>\n",
       "</g>\n",
       "<!-- 3&#45;&gt;5 -->\n",
       "<g id=\"edge6\" class=\"edge\">\n",
       "<title>3&#45;&gt;5</title>\n",
       "<path fill=\"none\" stroke=\"black\" d=\"M75.93,-174.19C83.24,-144.27 98.56,-81.52 107.32,-45.65\"/>\n",
       "<polygon fill=\"black\" stroke=\"black\" points=\"110.73,-46.42 109.7,-35.87 103.93,-44.76 110.73,-46.42\"/>\n",
       "<text text-anchor=\"middle\" x=\"103.83\" y=\"-101.3\" font-family=\"Times,serif\" font-size=\"14.00\">op</text>\n",
       "</g>\n",
       "<!-- 4&#45;&gt;3 -->\n",
       "<g id=\"edge7\" class=\"edge\">\n",
       "<title>4&#45;&gt;3</title>\n",
       "<path fill=\"none\" stroke=\"black\" d=\"M37.9,-122.34C43.93,-134.56 52.3,-151.49 59.22,-165.49\"/>\n",
       "<polygon fill=\"black\" stroke=\"black\" points=\"56.16,-167.2 63.73,-174.61 62.43,-164.1 56.16,-167.2\"/>\n",
       "<text text-anchor=\"middle\" x=\"59.83\" y=\"-144.8\" font-family=\"Times,serif\" font-size=\"14.00\">op</text>\n",
       "</g>\n",
       "<!-- 4&#45;&gt;5 -->\n",
       "<g id=\"edge8\" class=\"edge\">\n",
       "<title>4&#45;&gt;5</title>\n",
       "<path fill=\"none\" stroke=\"black\" d=\"M29.53,-86.65C30.2,-76.21 32.63,-63.21 39.83,-54 49.56,-41.53 64.82,-33.29 78.96,-27.96\"/>\n",
       "<polygon fill=\"black\" stroke=\"black\" points=\"80.15,-31.25 88.49,-24.71 77.9,-24.62 80.15,-31.25\"/>\n",
       "<text text-anchor=\"middle\" x=\"59.33\" y=\"-57.8\" font-family=\"Times,serif\" font-size=\"14.00\">id|num</text>\n",
       "</g>\n",
       "<!-- 5&#45;&gt;5 -->\n",
       "<g id=\"edge9\" class=\"edge\">\n",
       "<title>5&#45;&gt;5</title>\n",
       "<path fill=\"none\" stroke=\"black\" d=\"M138.36,-25.75C149.33,-26.49 158.83,-23.91 158.83,-18 158.83,-14.03 154.54,-11.56 148.4,-10.59\"/>\n",
       "<polygon fill=\"black\" stroke=\"black\" points=\"148.47,-7.09 138.36,-10.25 148.23,-14.09 148.47,-7.09\"/>\n",
       "<text text-anchor=\"middle\" x=\"186.33\" y=\"-14.3\" font-family=\"Times,serif\" font-size=\"14.00\">id|num|op</text>\n",
       "</g>\n",
       "</g>\n",
       "</svg>\n"
      ],
      "text/plain": [
       "<graphviz.graphs.Digraph at 0x7f99eac7d8e0>"
      ]
     },
     "execution_count": 10,
     "metadata": {},
     "output_type": "execute_result"
    }
   ],
   "source": [
    "dot"
   ]
  }
 ],
 "metadata": {
  "kernelspec": {
   "display_name": "Python 3 (ipykernel)",
   "language": "python",
   "name": "python3"
  },
  "language_info": {
   "codemirror_mode": {
    "name": "ipython",
    "version": 3
   },
   "file_extension": ".py",
   "mimetype": "text/x-python",
   "name": "python",
   "nbconvert_exporter": "python",
   "pygments_lexer": "ipython3",
   "version": "3.9.7"
  }
 },
 "nbformat": 4,
 "nbformat_minor": 5
}
